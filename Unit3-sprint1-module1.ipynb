{
  "nbformat": 4,
  "nbformat_minor": 0,
  "metadata": {
    "colab": {
      "name": "Unit3-Sprint1-Module1.ipynb",
      "provenance": [],
      "collapsed_sections": [],
      "authorship_tag": "ABX9TyNwcsU7yNsWhBSNX4l8CXKK",
      "include_colab_link": true
    },
    "kernelspec": {
      "name": "python3",
      "display_name": "Python 3"
    }
  },
  "cells": [
    {
      "cell_type": "markdown",
      "metadata": {
        "id": "view-in-github",
        "colab_type": "text"
      },
      "source": [
        "<a href=\"https://colab.research.google.com/github/ethanmjansen/lambdata/blob/master/Unit3-sprint1-module1.ipynb\" target=\"_parent\"><img src=\"https://colab.research.google.com/assets/colab-badge.svg\" alt=\"Open In Colab\"/></a>"
      ]
    },
    {
      "cell_type": "code",
      "metadata": {
        "id": "0RiM7AdekIEq",
        "colab_type": "code",
        "colab": {}
      },
      "source": [
        "#Initial Imports\n",
        "from google.colab import files\n",
        "import pandas as pd\n",
        "from sklearn.model_selection import train_test_split\n",
        "from scipy.stats import ttest_ind\n",
        "!pip install -i https://test.pypi.org/simple/ lambdata-ethanmjansen==0.1.4"
      ],
      "execution_count": 0,
      "outputs": []
    },
    {
      "cell_type": "code",
      "metadata": {
        "id": "XEbO6eiY8eRy",
        "colab_type": "code",
        "colab": {}
      },
      "source": [
        "import lambdata_ethanmjansen"
      ],
      "execution_count": 0,
      "outputs": []
    },
    {
      "cell_type": "code",
      "metadata": {
        "id": "22Gqjg7t87sh",
        "colab_type": "code",
        "colab": {}
      },
      "source": [
        "from lambdata_ethanmjansen import df_utils"
      ],
      "execution_count": 0,
      "outputs": []
    },
    {
      "cell_type": "code",
      "metadata": {
        "id": "4pxrfZOdkM-L",
        "colab_type": "code",
        "colab": {}
      },
      "source": [
        "uploaded = files.upload()"
      ],
      "execution_count": 0,
      "outputs": []
    },
    {
      "cell_type": "code",
      "metadata": {
        "id": "ti_082GVkYtz",
        "colab_type": "code",
        "colab": {}
      },
      "source": [
        "df = pd.read_csv('2018_Central_Park_Squirrel_Census_-_Squirrel_Data.csv')"
      ],
      "execution_count": 0,
      "outputs": []
    },
    {
      "cell_type": "code",
      "metadata": {
        "id": "lgVYtopqwaEv",
        "colab_type": "code",
        "colab": {}
      },
      "source": [
        "train, test = df_utils.split(df)"
      ],
      "execution_count": 0,
      "outputs": []
    },
    {
      "cell_type": "code",
      "metadata": {
        "id": "07Gxm0s9zD1K",
        "colab_type": "code",
        "colab": {
          "base_uri": "https://localhost:8080/",
          "height": 35
        },
        "outputId": "926fe2f3-53aa-4541-f6c7-f50ebc629623"
      },
      "source": [
        "train.shape, test.shape"
      ],
      "execution_count": 8,
      "outputs": [
        {
          "output_type": "execute_result",
          "data": {
            "text/plain": [
              "((2267, 36), (756, 36))"
            ]
          },
          "metadata": {
            "tags": []
          },
          "execution_count": 8
        }
      ]
    },
    {
      "cell_type": "code",
      "metadata": {
        "id": "bE9m4Kj10JRT",
        "colab_type": "code",
        "colab": {
          "base_uri": "https://localhost:8080/",
          "height": 35
        },
        "outputId": "4dc2f6a1-e28c-4a05-a253-c82f7fd6ee66"
      },
      "source": [
        "df_utils.ttester(df, 'X', 'Y')"
      ],
      "execution_count": 9,
      "outputs": [
        {
          "output_type": "stream",
          "text": [
            "Ttest_indResult(statistic=-490443.1749942101, pvalue=0.0)\n"
          ],
          "name": "stdout"
        }
      ]
    }
  ]
}